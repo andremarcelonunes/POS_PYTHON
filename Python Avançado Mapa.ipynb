{
 "cells": [
  {
   "metadata": {},
   "cell_type": "markdown",
   "source": "Importação da bibliotecas necessárias ",
   "id": "fe339daf2f310e5"
  },
  {
   "metadata": {
    "ExecuteTime": {
     "end_time": "2024-06-06T22:20:45.687209Z",
     "start_time": "2024-06-06T22:20:45.681937Z"
    }
   },
   "cell_type": "code",
   "source": [
    "import yfinance as yf\n",
    "import pandas as pd\n",
    "from datetime import datetime, timedelta\n",
    "import time\n",
    "from selenium import webdriver\n",
    "from selenium.webdriver.common.by import By\n",
    "#from tqdm import tqdm\n",
    "import asyncio\n",
    "from tqdm.asyncio import tqdm \n",
    "import nest_asyncio\n",
    "from time import sleep\n",
    "import sqlite3"
   ],
   "id": "999ad88cde6bf1e2",
   "outputs": [],
   "execution_count": 105
  },
  {
   "metadata": {},
   "cell_type": "markdown",
   "source": "Download do Arquivo com a Lista da Empresa",
   "id": "ea80052c099867cb"
  },
  {
   "metadata": {
    "ExecuteTime": {
     "end_time": "2024-06-06T14:11:56.770488Z",
     "start_time": "2024-06-06T14:11:50.587475Z"
    }
   },
   "cell_type": "code",
   "source": [
    "options = webdriver.ChromeOptions()\n",
    "prefs = {\"download.default_directory\":\"/Users/andrenunes/PycharmProjects/POS_PYTHON/downloads\"}\n",
    "options.add_experimental_option(\"prefs\",prefs)\n",
    "driver = webdriver.Chrome(options=options)\n",
    "driver.get(\"https://sistemaswebb3-listados.b3.com.br/indexPage/day/IBOV?language=pt-br\")\n",
    "btn_download = driver.find_element(By.PARTIAL_LINK_TEXT, \"Download\")\n",
    "btn_download.click()\n",
    "time.sleep(3)\n",
    "driver.close()"
   ],
   "id": "e21d13fdbc01a104",
   "outputs": [],
   "execution_count": 48
  },
  {
   "metadata": {
    "ExecuteTime": {
     "end_time": "2024-06-06T20:59:58.094676Z",
     "start_time": "2024-06-06T20:59:58.084572Z"
    }
   },
   "cell_type": "code",
   "source": [
    "def get_symbols():\n",
    "    hoje = datetime.today()\n",
    "    nome_arquivo = hoje.strftime('downloads/IBOVDia_%d-%m-%y.csv')\n",
    "    with open(nome_arquivo, 'r', encoding='iso-8859-1') as arquivo:\n",
    "        linhas = arquivo.readlines()\n",
    "        nomes_alterados = [linha.split(';')[0] + \".SA\" for linha in linhas[2:-2]]\n",
    "    return nomes_alterados\n",
    "symbols = get_symbols()\n"
   ],
   "id": "8ef928c5a18b0082",
   "outputs": [
    {
     "name": "stdout",
     "output_type": "stream",
     "text": [
      "['RRRP3.SA', 'ALOS3.SA', 'ALPA4.SA', 'ABEV3.SA', 'ARZZ3.SA', 'ASAI3.SA', 'AZUL4.SA', 'B3SA3.SA', 'BBSE3.SA', 'BBDC3.SA', 'BBDC4.SA', 'BRAP4.SA', 'BBAS3.SA', 'BRKM5.SA', 'BRFS3.SA', 'BPAC11.SA', 'CRFB3.SA', 'CCRO3.SA', 'CMIG4.SA', 'CIEL3.SA', 'COGN3.SA', 'CPLE6.SA', 'CSAN3.SA', 'CPFE3.SA', 'CMIN3.SA', 'CVCB3.SA', 'CYRE3.SA', 'DXCO3.SA', 'ELET3.SA', 'ELET6.SA', 'EMBR3.SA', 'ENGI11.SA', 'ENEV3.SA', 'EGIE3.SA', 'EQTL3.SA', 'EZTC3.SA', 'FLRY3.SA', 'GGBR4.SA', 'GOAU4.SA', 'NTCO3.SA', 'SOMA3.SA', 'HAPV3.SA', 'HYPE3.SA', 'IGTI11.SA', 'IRBR3.SA', 'ITSA4.SA', 'ITUB4.SA', 'JBSS3.SA', 'KLBN11.SA', 'RENT3.SA', 'LREN3.SA', 'LWSA3.SA', 'MGLU3.SA', 'MRFG3.SA', 'BEEF3.SA', 'MRVE3.SA', 'MULT3.SA', 'PCAR3.SA', 'PETR3.SA', 'PETR4.SA', 'RECV3.SA', 'PRIO3.SA', 'PETZ3.SA', 'RADL3.SA', 'RAIZ4.SA', 'RDOR3.SA', 'RAIL3.SA', 'SBSP3.SA', 'SANB11.SA', 'SMTO3.SA', 'CSNA3.SA', 'SLCE3.SA', 'SUZB3.SA', 'TAEE11.SA', 'VIVT3.SA', 'TIMS3.SA', 'TOTS3.SA', 'TRPL4.SA', 'UGPA3.SA', 'USIM5.SA', 'VALE3.SA', 'VAMO3.SA', 'VBBR3.SA', 'VIVA3.SA', 'WEGE3.SA', 'YDUQ3.SA']\n"
     ]
    }
   ],
   "execution_count": 76
  },
  {
   "metadata": {
    "ExecuteTime": {
     "end_time": "2024-06-06T22:09:00.116289Z",
     "start_time": "2024-06-06T22:06:29.479512Z"
    }
   },
   "cell_type": "code",
   "source": [
    "\n",
    "# Aplicar o nest_asyncio para evitar erros de loop de eventos\n",
    "nest_asyncio.apply()\n",
    "\n",
    "async def fetch_single_stock_data(symbol, start_date, end_date):\n",
    "    df = yf.Ticker(symbol).history(start=start_date, end=end_date)['Close']\n",
    "    await asyncio.sleep(3)  # Simula um atraso para garantir comportamento assíncrono\n",
    "    df = df.ffill().bfill()  # Preenche NaNs com o primeiro e último valor válido\n",
    "    return symbol, df\n",
    "\n",
    "async def fetch_stock_data(symbols, months):\n",
    "    end_date = datetime.now()\n",
    "    start_date = end_date - timedelta(days=months*30)\n",
    "    all_data = {}\n",
    "\n",
    "    # Criação de tarefas com asyncio.create_task\n",
    "    tasks = [asyncio.create_task(fetch_single_stock_data(symbol, start_date, end_date)) for symbol in symbols]\n",
    "\n",
    "    results = []\n",
    "    with tqdm(total=len(tasks), desc=\"Fetching stock data\") as pbar:\n",
    "        for coro in asyncio.as_completed(tasks):\n",
    "            result = await coro\n",
    "            results.append(result)\n",
    "            pbar.n = len([t for t in tasks if t.done()])\n",
    "            pbar.refresh()\n",
    "            sleep(1)\n",
    "\n",
    "    for symbol, df in results:\n",
    "        all_data[symbol] = df\n",
    "\n",
    "    combined_df = pd.DataFrame(all_data)\n",
    "    combined_df.index.name = 'Date'\n",
    "    return combined_df\n",
    "\n",
    "# Rodar a função assíncrona\n",
    "df = asyncio.run(fetch_stock_data(symbols, 6))\n"
   ],
   "id": "ed036e729d37e1c1",
   "outputs": [
    {
     "name": "stderr",
     "output_type": "stream",
     "text": [
      "Fetching stock data: 100%|██████████| 86/86 [02:30<00:00,  1.75s/it]\n"
     ]
    }
   ],
   "execution_count": 98
  },
  {
   "metadata": {
    "ExecuteTime": {
     "end_time": "2024-06-06T22:21:45.451298Z",
     "start_time": "2024-06-06T22:21:45.445041Z"
    }
   },
   "cell_type": "code",
   "source": [
    "def save_to_sqlite(df, db_name, table_name):\n",
    "    # Conectar ao banco de dados SQLite\n",
    "    conn = sqlite3.connect(db_name)\n",
    "    \n",
    "    # Salvar o DataFrame no banco de dados\n",
    "    df.to_sql(table_name, conn, if_exists='replace', index=True)\n",
    "    \n",
    "    # Fechar a conexão com o banco de dados\n",
    "    conn.close()\n",
    "    print(f\"Data saved to SQLite database '{db_name}' in table '{table_name}'\")"
   ],
   "id": "998ee183a2ed70",
   "outputs": [],
   "execution_count": 108
  },
  {
   "metadata": {
    "ExecuteTime": {
     "end_time": "2024-06-06T22:20:56.396321Z",
     "start_time": "2024-06-06T22:20:56.376205Z"
    }
   },
   "cell_type": "code",
   "source": "save_to_sqlite(df, \"db_bolsa\", \"tb_historico_acoes\")",
   "id": "5c1339128cafd839",
   "outputs": [
    {
     "name": "stdout",
     "output_type": "stream",
     "text": [
      "Data saved to SQLite database 'db_bolsa' in table 'tb_historico_acoes'\n"
     ]
    }
   ],
   "execution_count": 107
  },
  {
   "metadata": {
    "ExecuteTime": {
     "end_time": "2024-06-06T22:09:04.814898Z",
     "start_time": "2024-06-06T22:09:04.793126Z"
    }
   },
   "cell_type": "code",
   "source": [
    "def calculate_rentability(df):\n",
    "    rentability_data = [\n",
    "        (symbol, df[symbol].iloc[0], df[symbol].iloc[-1], (df[symbol].iloc[-1] - df[symbol].iloc[0]) / df[symbol].iloc[0])\n",
    "        for symbol in df.columns]\n",
    "    \n",
    "    rentability_df = pd.DataFrame(rentability_data, columns=['Empresa', 'Initial Value', 'Final Value', 'Rentability'])\n",
    "    rentability_df.sort_values('Rentability', ascending=False, inplace=True)\n",
    "    top_stocks = rentability_df.head(10)\n",
    "    \n",
    "    return top_stocks\n",
    "    \n",
    "df_top10= calculate_rentability(df)\n",
    "df_top10\n"
   ],
   "id": "1fbc6a52c9424dcd",
   "outputs": [
    {
     "data": {
      "text/plain": [
       "     Empresa  Initial Value  Final Value  Rentability\n",
       "30  EMBR3.SA      23.799999    36.910000     0.550840\n",
       "18  CMIG4.SA       7.489175    10.440000     0.394012\n",
       "19  CIEL3.SA       4.222324     5.650000     0.338126\n",
       "14  BRFS3.SA      13.820000    18.440001     0.334298\n",
       "47  JBSS3.SA      23.760000    29.170000     0.227694\n",
       "59  PETR4.SA      32.032825    38.380001     0.198146\n",
       "58  PETR3.SA      34.193348    39.939999     0.168063\n",
       "53  MRFG3.SA       9.550000    11.000000     0.151832\n",
       "67  SBSP3.SA      67.747192    77.320000     0.141302\n",
       "84  WEGE3.SA      34.462029    37.810001     0.097150"
      ],
      "text/html": [
       "<div>\n",
       "<style scoped>\n",
       "    .dataframe tbody tr th:only-of-type {\n",
       "        vertical-align: middle;\n",
       "    }\n",
       "\n",
       "    .dataframe tbody tr th {\n",
       "        vertical-align: top;\n",
       "    }\n",
       "\n",
       "    .dataframe thead th {\n",
       "        text-align: right;\n",
       "    }\n",
       "</style>\n",
       "<table border=\"1\" class=\"dataframe\">\n",
       "  <thead>\n",
       "    <tr style=\"text-align: right;\">\n",
       "      <th></th>\n",
       "      <th>Empresa</th>\n",
       "      <th>Initial Value</th>\n",
       "      <th>Final Value</th>\n",
       "      <th>Rentability</th>\n",
       "    </tr>\n",
       "  </thead>\n",
       "  <tbody>\n",
       "    <tr>\n",
       "      <th>30</th>\n",
       "      <td>EMBR3.SA</td>\n",
       "      <td>23.799999</td>\n",
       "      <td>36.910000</td>\n",
       "      <td>0.550840</td>\n",
       "    </tr>\n",
       "    <tr>\n",
       "      <th>18</th>\n",
       "      <td>CMIG4.SA</td>\n",
       "      <td>7.489175</td>\n",
       "      <td>10.440000</td>\n",
       "      <td>0.394012</td>\n",
       "    </tr>\n",
       "    <tr>\n",
       "      <th>19</th>\n",
       "      <td>CIEL3.SA</td>\n",
       "      <td>4.222324</td>\n",
       "      <td>5.650000</td>\n",
       "      <td>0.338126</td>\n",
       "    </tr>\n",
       "    <tr>\n",
       "      <th>14</th>\n",
       "      <td>BRFS3.SA</td>\n",
       "      <td>13.820000</td>\n",
       "      <td>18.440001</td>\n",
       "      <td>0.334298</td>\n",
       "    </tr>\n",
       "    <tr>\n",
       "      <th>47</th>\n",
       "      <td>JBSS3.SA</td>\n",
       "      <td>23.760000</td>\n",
       "      <td>29.170000</td>\n",
       "      <td>0.227694</td>\n",
       "    </tr>\n",
       "    <tr>\n",
       "      <th>59</th>\n",
       "      <td>PETR4.SA</td>\n",
       "      <td>32.032825</td>\n",
       "      <td>38.380001</td>\n",
       "      <td>0.198146</td>\n",
       "    </tr>\n",
       "    <tr>\n",
       "      <th>58</th>\n",
       "      <td>PETR3.SA</td>\n",
       "      <td>34.193348</td>\n",
       "      <td>39.939999</td>\n",
       "      <td>0.168063</td>\n",
       "    </tr>\n",
       "    <tr>\n",
       "      <th>53</th>\n",
       "      <td>MRFG3.SA</td>\n",
       "      <td>9.550000</td>\n",
       "      <td>11.000000</td>\n",
       "      <td>0.151832</td>\n",
       "    </tr>\n",
       "    <tr>\n",
       "      <th>67</th>\n",
       "      <td>SBSP3.SA</td>\n",
       "      <td>67.747192</td>\n",
       "      <td>77.320000</td>\n",
       "      <td>0.141302</td>\n",
       "    </tr>\n",
       "    <tr>\n",
       "      <th>84</th>\n",
       "      <td>WEGE3.SA</td>\n",
       "      <td>34.462029</td>\n",
       "      <td>37.810001</td>\n",
       "      <td>0.097150</td>\n",
       "    </tr>\n",
       "  </tbody>\n",
       "</table>\n",
       "</div>"
      ]
     },
     "execution_count": 99,
     "metadata": {},
     "output_type": "execute_result"
    }
   ],
   "execution_count": 99
  },
  {
   "metadata": {},
   "cell_type": "code",
   "outputs": [],
   "execution_count": null,
   "source": "",
   "id": "37acd337da66fc0b"
  }
 ],
 "metadata": {
  "kernelspec": {
   "display_name": "Python 3",
   "language": "python",
   "name": "python3"
  },
  "language_info": {
   "codemirror_mode": {
    "name": "ipython",
    "version": 2
   },
   "file_extension": ".py",
   "mimetype": "text/x-python",
   "name": "python",
   "nbconvert_exporter": "python",
   "pygments_lexer": "ipython2",
   "version": "2.7.6"
  }
 },
 "nbformat": 4,
 "nbformat_minor": 5
}
